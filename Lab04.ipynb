{
 "cells": [
  {
   "cell_type": "code",
   "execution_count": 1,
   "metadata": {},
   "outputs": [],
   "source": [
    "import pandas as pd"
   ]
  },
  {
   "cell_type": "code",
   "execution_count": 2,
   "metadata": {},
   "outputs": [],
   "source": [
    "def find_match(row):\n",
    "    string = 'facebook.com'\n",
    "    if string in row['http_hostname:131']:\n",
    "        return row['http_hostname:131']\n",
    "    elif string in row['fqdn:127']:\n",
    "        return row['fqdn:127']\n",
    "    elif string in row['c_tls_SNI:116']:\n",
    "        return row['c_tls_SNI:116']\n",
    "    else :\n",
    "        return row['s_tls_SCN:117']\n",
    "    \n",
    "def find_match_regex(row):\n",
    "    string = 'facebook'\n",
    "    if string in row['http_hostname:131']:\n",
    "        return row['http_hostname:131']\n",
    "    elif string in row['fqdn:127']:\n",
    "        return row['fqdn:127']\n",
    "    elif string in row['c_tls_SNI:116']:\n",
    "        return row['c_tls_SNI:116']\n",
    "    else :\n",
    "        return row['s_tls_SCN:117']"
   ]
  },
  {
   "cell_type": "code",
   "execution_count": 3,
   "metadata": {},
   "outputs": [],
   "source": [
    "# Read file CSV\n",
    "dataf = pd.read_csv('log_tcp_complete.xz', sep=' ', nrows=100000)"
   ]
  },
  {
   "cell_type": "markdown",
   "metadata": {},
   "source": [
    "Compute the number of TCP connections whose client is “local” and are directed towards the services \n",
    "matching with “*facebook.com”, separated for each complete service name.\n",
    "Then plot them as a barplot, ordered by decreasing number of TCP connections (if they are more than 20, plot the top-20).\n",
    "\n",
    "The match should be done considering column 116, 117,127, and 131 as in the example 4. Report as complete service name, the string in column 127. If this does not match “*facebook.com”, report the string in column 131. If this  does not match “*facebook.com”, report the string in column 116. If this does not match “*facebook.com”, report the string in column 117.\n",
    "\n",
    "Help: Create a new column called hostname where you report the complete service name, according to the \n",
    "rules above."
   ]
  },
  {
   "cell_type": "code",
   "execution_count": 4,
   "metadata": {},
   "outputs": [],
   "source": [
    "# Filter DataFrame for \"/*facebook.com\"\n",
    "fb_string = '/*facebook.com'\n",
    "fb_dataf = dataf[(dataf['c_isint:38'] == 1) &\n",
    "                 (\n",
    "                  (dataf['http_hostname:131'].str.contains(fb_string)) |\n",
    "                  (dataf['fqdn:127'].str.contains(fb_string)) |\n",
    "                  (dataf['c_tls_SNI:116'].str.contains(fb_string)) |\n",
    "                  (dataf['s_tls_SCN:117'].str.contains(fb_string))\n",
    "                 )\n",
    "                ]\n",
    "# print(fb_dataf)"
   ]
  },
  {
   "cell_type": "code",
   "execution_count": 5,
   "metadata": {
    "scrolled": false
   },
   "outputs": [
    {
     "name": "stderr",
     "output_type": "stream",
     "text": [
      "<ipython-input-5-1df76fd6cb0a>:3: SettingWithCopyWarning: \n",
      "A value is trying to be set on a copy of a slice from a DataFrame.\n",
      "Try using .loc[row_indexer,col_indexer] = value instead\n",
      "\n",
      "See the caveats in the documentation: https://pandas.pydata.org/pandas-docs/stable/user_guide/indexing.html#returning-a-view-versus-a-copy\n",
      "  fb_dataf['hostname'] = new_col\n"
     ]
    },
    {
     "data": {
      "text/html": [
       "<div>\n",
       "<style scoped>\n",
       "    .dataframe tbody tr th:only-of-type {\n",
       "        vertical-align: middle;\n",
       "    }\n",
       "\n",
       "    .dataframe tbody tr th {\n",
       "        vertical-align: top;\n",
       "    }\n",
       "\n",
       "    .dataframe thead th {\n",
       "        text-align: right;\n",
       "    }\n",
       "</style>\n",
       "<table border=\"1\" class=\"dataframe\">\n",
       "  <thead>\n",
       "    <tr style=\"text-align: right;\">\n",
       "      <th></th>\n",
       "      <th>#15#c_ip:1</th>\n",
       "      <th>c_port:2</th>\n",
       "      <th>c_pkts_all:3</th>\n",
       "      <th>c_rst_cnt:4</th>\n",
       "      <th>c_ack_cnt:5</th>\n",
       "      <th>c_ack_cnt_p:6</th>\n",
       "      <th>c_bytes_uniq:7</th>\n",
       "      <th>c_pkts_data:8</th>\n",
       "      <th>c_bytes_all:9</th>\n",
       "      <th>c_pkts_retx:10</th>\n",
       "      <th>...</th>\n",
       "      <th>c_appdataT:123</th>\n",
       "      <th>s_appdataT:124</th>\n",
       "      <th>c_appdataB:125</th>\n",
       "      <th>s_appdataB:126</th>\n",
       "      <th>fqdn:127</th>\n",
       "      <th>dns_rslv:128</th>\n",
       "      <th>req_tm:129</th>\n",
       "      <th>res_tm:130</th>\n",
       "      <th>http_hostname:131</th>\n",
       "      <th>hostname</th>\n",
       "    </tr>\n",
       "  </thead>\n",
       "  <tbody>\n",
       "    <tr>\n",
       "      <th>16</th>\n",
       "      <td>67.32.97.6</td>\n",
       "      <td>61958</td>\n",
       "      <td>14</td>\n",
       "      <td>0</td>\n",
       "      <td>13</td>\n",
       "      <td>10</td>\n",
       "      <td>842</td>\n",
       "      <td>3</td>\n",
       "      <td>842</td>\n",
       "      <td>0</td>\n",
       "      <td>...</td>\n",
       "      <td>131.619</td>\n",
       "      <td>258.076</td>\n",
       "      <td>352</td>\n",
       "      <td>3738</td>\n",
       "      <td>graph.facebook.com</td>\n",
       "      <td>130.192.3.24</td>\n",
       "      <td>1.513070e+12</td>\n",
       "      <td>1.513070e+12</td>\n",
       "      <td>-</td>\n",
       "      <td>graph.facebook.com</td>\n",
       "    </tr>\n",
       "    <tr>\n",
       "      <th>28</th>\n",
       "      <td>67.32.97.6</td>\n",
       "      <td>61959</td>\n",
       "      <td>12</td>\n",
       "      <td>0</td>\n",
       "      <td>11</td>\n",
       "      <td>8</td>\n",
       "      <td>949</td>\n",
       "      <td>3</td>\n",
       "      <td>949</td>\n",
       "      <td>0</td>\n",
       "      <td>...</td>\n",
       "      <td>174.289</td>\n",
       "      <td>308.027</td>\n",
       "      <td>352</td>\n",
       "      <td>3738</td>\n",
       "      <td>graph.facebook.com</td>\n",
       "      <td>130.192.3.24</td>\n",
       "      <td>1.513070e+12</td>\n",
       "      <td>1.513070e+12</td>\n",
       "      <td>-</td>\n",
       "      <td>graph.facebook.com</td>\n",
       "    </tr>\n",
       "    <tr>\n",
       "      <th>467</th>\n",
       "      <td>67.32.230.6</td>\n",
       "      <td>53047</td>\n",
       "      <td>11</td>\n",
       "      <td>0</td>\n",
       "      <td>10</td>\n",
       "      <td>6</td>\n",
       "      <td>828</td>\n",
       "      <td>4</td>\n",
       "      <td>828</td>\n",
       "      <td>0</td>\n",
       "      <td>...</td>\n",
       "      <td>18.586</td>\n",
       "      <td>115.751</td>\n",
       "      <td>589</td>\n",
       "      <td>138</td>\n",
       "      <td>-</td>\n",
       "      <td>-</td>\n",
       "      <td>0.000000e+00</td>\n",
       "      <td>0.000000e+00</td>\n",
       "      <td>-</td>\n",
       "      <td>edge-mqtt.facebook.com</td>\n",
       "    </tr>\n",
       "    <tr>\n",
       "      <th>474</th>\n",
       "      <td>67.32.230.7</td>\n",
       "      <td>49936</td>\n",
       "      <td>9</td>\n",
       "      <td>0</td>\n",
       "      <td>8</td>\n",
       "      <td>5</td>\n",
       "      <td>710</td>\n",
       "      <td>3</td>\n",
       "      <td>710</td>\n",
       "      <td>0</td>\n",
       "      <td>...</td>\n",
       "      <td>94.467</td>\n",
       "      <td>237.905</td>\n",
       "      <td>325</td>\n",
       "      <td>3559</td>\n",
       "      <td>mqtt-mini.facebook.com</td>\n",
       "      <td>130.192.3.21</td>\n",
       "      <td>1.513070e+12</td>\n",
       "      <td>-1.000000e+03</td>\n",
       "      <td>-</td>\n",
       "      <td>mqtt-mini.facebook.com</td>\n",
       "    </tr>\n",
       "    <tr>\n",
       "      <th>493</th>\n",
       "      <td>67.32.230.29</td>\n",
       "      <td>42505</td>\n",
       "      <td>7</td>\n",
       "      <td>0</td>\n",
       "      <td>6</td>\n",
       "      <td>3</td>\n",
       "      <td>642</td>\n",
       "      <td>3</td>\n",
       "      <td>642</td>\n",
       "      <td>0</td>\n",
       "      <td>...</td>\n",
       "      <td>19.669</td>\n",
       "      <td>121.902</td>\n",
       "      <td>253</td>\n",
       "      <td>138</td>\n",
       "      <td>mqtt-mini.facebook.com</td>\n",
       "      <td>130.192.3.21</td>\n",
       "      <td>1.513070e+12</td>\n",
       "      <td>-1.000000e+03</td>\n",
       "      <td>-</td>\n",
       "      <td>mqtt-mini.facebook.com</td>\n",
       "    </tr>\n",
       "    <tr>\n",
       "      <th>...</th>\n",
       "      <td>...</td>\n",
       "      <td>...</td>\n",
       "      <td>...</td>\n",
       "      <td>...</td>\n",
       "      <td>...</td>\n",
       "      <td>...</td>\n",
       "      <td>...</td>\n",
       "      <td>...</td>\n",
       "      <td>...</td>\n",
       "      <td>...</td>\n",
       "      <td>...</td>\n",
       "      <td>...</td>\n",
       "      <td>...</td>\n",
       "      <td>...</td>\n",
       "      <td>...</td>\n",
       "      <td>...</td>\n",
       "      <td>...</td>\n",
       "      <td>...</td>\n",
       "      <td>...</td>\n",
       "      <td>...</td>\n",
       "      <td>...</td>\n",
       "    </tr>\n",
       "    <tr>\n",
       "      <th>99695</th>\n",
       "      <td>67.32.230.19</td>\n",
       "      <td>35272</td>\n",
       "      <td>16</td>\n",
       "      <td>0</td>\n",
       "      <td>15</td>\n",
       "      <td>8</td>\n",
       "      <td>827</td>\n",
       "      <td>7</td>\n",
       "      <td>2438</td>\n",
       "      <td>3</td>\n",
       "      <td>...</td>\n",
       "      <td>1557.559</td>\n",
       "      <td>1675.399</td>\n",
       "      <td>589</td>\n",
       "      <td>138</td>\n",
       "      <td>mqtt.c10r.facebook.com</td>\n",
       "      <td>130.192.3.103</td>\n",
       "      <td>1.513071e+12</td>\n",
       "      <td>-1.000000e+03</td>\n",
       "      <td>-</td>\n",
       "      <td>mqtt.c10r.facebook.com</td>\n",
       "    </tr>\n",
       "    <tr>\n",
       "      <th>99777</th>\n",
       "      <td>67.32.230.26</td>\n",
       "      <td>38824</td>\n",
       "      <td>9</td>\n",
       "      <td>0</td>\n",
       "      <td>8</td>\n",
       "      <td>4</td>\n",
       "      <td>826</td>\n",
       "      <td>4</td>\n",
       "      <td>826</td>\n",
       "      <td>0</td>\n",
       "      <td>...</td>\n",
       "      <td>44.635</td>\n",
       "      <td>161.845</td>\n",
       "      <td>589</td>\n",
       "      <td>138</td>\n",
       "      <td>-</td>\n",
       "      <td>-</td>\n",
       "      <td>0.000000e+00</td>\n",
       "      <td>0.000000e+00</td>\n",
       "      <td>-</td>\n",
       "      <td>edge-mqtt.facebook.com</td>\n",
       "    </tr>\n",
       "    <tr>\n",
       "      <th>99795</th>\n",
       "      <td>67.32.181.212</td>\n",
       "      <td>52199</td>\n",
       "      <td>8</td>\n",
       "      <td>1</td>\n",
       "      <td>6</td>\n",
       "      <td>3</td>\n",
       "      <td>822</td>\n",
       "      <td>2</td>\n",
       "      <td>822</td>\n",
       "      <td>0</td>\n",
       "      <td>...</td>\n",
       "      <td>0.000</td>\n",
       "      <td>167.232</td>\n",
       "      <td>0</td>\n",
       "      <td>138</td>\n",
       "      <td>-</td>\n",
       "      <td>-</td>\n",
       "      <td>0.000000e+00</td>\n",
       "      <td>0.000000e+00</td>\n",
       "      <td>-</td>\n",
       "      <td>www.facebook.com</td>\n",
       "    </tr>\n",
       "    <tr>\n",
       "      <th>99916</th>\n",
       "      <td>67.32.230.31</td>\n",
       "      <td>56469</td>\n",
       "      <td>12</td>\n",
       "      <td>1</td>\n",
       "      <td>10</td>\n",
       "      <td>5</td>\n",
       "      <td>727</td>\n",
       "      <td>5</td>\n",
       "      <td>727</td>\n",
       "      <td>0</td>\n",
       "      <td>...</td>\n",
       "      <td>0.000</td>\n",
       "      <td>0.000</td>\n",
       "      <td>0</td>\n",
       "      <td>0</td>\n",
       "      <td>edge-mqtt.facebook.com</td>\n",
       "      <td>130.192.3.21</td>\n",
       "      <td>1.513071e+12</td>\n",
       "      <td>-1.000000e+03</td>\n",
       "      <td>-</td>\n",
       "      <td>edge-mqtt.facebook.com</td>\n",
       "    </tr>\n",
       "    <tr>\n",
       "      <th>99922</th>\n",
       "      <td>67.32.181.212</td>\n",
       "      <td>52021</td>\n",
       "      <td>12</td>\n",
       "      <td>1</td>\n",
       "      <td>10</td>\n",
       "      <td>4</td>\n",
       "      <td>2116</td>\n",
       "      <td>5</td>\n",
       "      <td>2116</td>\n",
       "      <td>0</td>\n",
       "      <td>...</td>\n",
       "      <td>21.107</td>\n",
       "      <td>22.186</td>\n",
       "      <td>569</td>\n",
       "      <td>147</td>\n",
       "      <td>-</td>\n",
       "      <td>-</td>\n",
       "      <td>0.000000e+00</td>\n",
       "      <td>0.000000e+00</td>\n",
       "      <td>-</td>\n",
       "      <td>www.facebook.com</td>\n",
       "    </tr>\n",
       "  </tbody>\n",
       "</table>\n",
       "<p>2872 rows × 132 columns</p>\n",
       "</div>"
      ],
      "text/plain": [
       "          #15#c_ip:1  c_port:2  c_pkts_all:3  c_rst_cnt:4  c_ack_cnt:5  \\\n",
       "16        67.32.97.6     61958            14            0           13   \n",
       "28        67.32.97.6     61959            12            0           11   \n",
       "467      67.32.230.6     53047            11            0           10   \n",
       "474      67.32.230.7     49936             9            0            8   \n",
       "493     67.32.230.29     42505             7            0            6   \n",
       "...              ...       ...           ...          ...          ...   \n",
       "99695   67.32.230.19     35272            16            0           15   \n",
       "99777   67.32.230.26     38824             9            0            8   \n",
       "99795  67.32.181.212     52199             8            1            6   \n",
       "99916   67.32.230.31     56469            12            1           10   \n",
       "99922  67.32.181.212     52021            12            1           10   \n",
       "\n",
       "       c_ack_cnt_p:6  c_bytes_uniq:7  c_pkts_data:8  c_bytes_all:9  \\\n",
       "16                10             842              3            842   \n",
       "28                 8             949              3            949   \n",
       "467                6             828              4            828   \n",
       "474                5             710              3            710   \n",
       "493                3             642              3            642   \n",
       "...              ...             ...            ...            ...   \n",
       "99695              8             827              7           2438   \n",
       "99777              4             826              4            826   \n",
       "99795              3             822              2            822   \n",
       "99916              5             727              5            727   \n",
       "99922              4            2116              5           2116   \n",
       "\n",
       "       c_pkts_retx:10  ...  c_appdataT:123  s_appdataT:124  c_appdataB:125  \\\n",
       "16                  0  ...         131.619         258.076             352   \n",
       "28                  0  ...         174.289         308.027             352   \n",
       "467                 0  ...          18.586         115.751             589   \n",
       "474                 0  ...          94.467         237.905             325   \n",
       "493                 0  ...          19.669         121.902             253   \n",
       "...               ...  ...             ...             ...             ...   \n",
       "99695               3  ...        1557.559        1675.399             589   \n",
       "99777               0  ...          44.635         161.845             589   \n",
       "99795               0  ...           0.000         167.232               0   \n",
       "99916               0  ...           0.000           0.000               0   \n",
       "99922               0  ...          21.107          22.186             569   \n",
       "\n",
       "       s_appdataB:126                fqdn:127   dns_rslv:128    req_tm:129  \\\n",
       "16               3738      graph.facebook.com   130.192.3.24  1.513070e+12   \n",
       "28               3738      graph.facebook.com   130.192.3.24  1.513070e+12   \n",
       "467               138                       -              -  0.000000e+00   \n",
       "474              3559  mqtt-mini.facebook.com   130.192.3.21  1.513070e+12   \n",
       "493               138  mqtt-mini.facebook.com   130.192.3.21  1.513070e+12   \n",
       "...               ...                     ...            ...           ...   \n",
       "99695             138  mqtt.c10r.facebook.com  130.192.3.103  1.513071e+12   \n",
       "99777             138                       -              -  0.000000e+00   \n",
       "99795             138                       -              -  0.000000e+00   \n",
       "99916               0  edge-mqtt.facebook.com   130.192.3.21  1.513071e+12   \n",
       "99922             147                       -              -  0.000000e+00   \n",
       "\n",
       "         res_tm:130  http_hostname:131                hostname  \n",
       "16     1.513070e+12                  -      graph.facebook.com  \n",
       "28     1.513070e+12                  -      graph.facebook.com  \n",
       "467    0.000000e+00                  -  edge-mqtt.facebook.com  \n",
       "474   -1.000000e+03                  -  mqtt-mini.facebook.com  \n",
       "493   -1.000000e+03                  -  mqtt-mini.facebook.com  \n",
       "...             ...                ...                     ...  \n",
       "99695 -1.000000e+03                  -  mqtt.c10r.facebook.com  \n",
       "99777  0.000000e+00                  -  edge-mqtt.facebook.com  \n",
       "99795  0.000000e+00                  -        www.facebook.com  \n",
       "99916 -1.000000e+03                  -  edge-mqtt.facebook.com  \n",
       "99922  0.000000e+00                  -        www.facebook.com  \n",
       "\n",
       "[2872 rows x 132 columns]"
      ]
     },
     "execution_count": 5,
     "metadata": {},
     "output_type": "execute_result"
    }
   ],
   "source": [
    "new_col = fb_dataf.apply(find_match, axis=1)\n",
    "# new_col\n",
    "fb_dataf['hostname'] = new_col\n",
    "fb_dataf \n",
    "# CHIEDERE AL PROF DEL WARNING"
   ]
  },
  {
   "cell_type": "code",
   "execution_count": 6,
   "metadata": {},
   "outputs": [
    {
     "data": {
      "image/png": "[encoded data removed]",
      "text/plain": [
       "<Figure size 432x288 with 1 Axes>"
      ]
     },
     "metadata": {
      "needs_background": "light"
     },
     "output_type": "display_data"
    }
   ],
   "source": [
    "# Group and plot\n",
    "fb_service = fb_dataf.groupby(['hostname']).size()\n",
    "# fb_service\n",
    "barplot = fb_service.sort_values(ascending=False).head(20).plot(kind='bar')"
   ]
  },
  {
   "cell_type": "markdown",
   "metadata": {},
   "source": [
    "What happens if you match “*facebook*” instead of “*facebook.com”? Discuss the usefulness of the \n",
    "regex concept."
   ]
  },
  {
   "cell_type": "code",
   "execution_count": 7,
   "metadata": {},
   "outputs": [
    {
     "name": "stderr",
     "output_type": "stream",
     "text": [
      "<ipython-input-7-9805ecedeb40>:15: SettingWithCopyWarning: \n",
      "A value is trying to be set on a copy of a slice from a DataFrame.\n",
      "Try using .loc[row_indexer,col_indexer] = value instead\n",
      "\n",
      "See the caveats in the documentation: https://pandas.pydata.org/pandas-docs/stable/user_guide/indexing.html#returning-a-view-versus-a-copy\n",
      "  fb_dataf_reg['hostname'] = new_col\n"
     ]
    },
    {
     "data": {
      "image/png": "[encoded data removed]",
      "text/plain": [
       "<Figure size 432x288 with 1 Axes>"
      ]
     },
     "metadata": {
      "needs_background": "light"
     },
     "output_type": "display_data"
    }
   ],
   "source": [
    "# Filter DataFrame for \"/*facebook*\"\n",
    "fb_string_reg = '/*facebook*'\n",
    "fb_dataf_reg = dataf[(dataf['c_isint:38'] == 1) &\n",
    "                 (\n",
    "                  (dataf['http_hostname:131'].str.contains(fb_string_reg)) |\n",
    "                  (dataf['fqdn:127'].str.contains(fb_string_reg)) |\n",
    "                  (dataf['c_tls_SNI:116'].str.contains(fb_string_reg)) |\n",
    "                  (dataf['s_tls_SCN:117'].str.contains(fb_string_reg))\n",
    "                 )\n",
    "                ]\n",
    "# print(fb_dataf)\n",
    "\n",
    "new_col = fb_dataf_reg.apply(find_match_regex, axis=1)\n",
    "# new_col\n",
    "fb_dataf_reg['hostname'] = new_col\n",
    "fb_dataf_reg \n",
    "# CHIEDERE AL PROF DEL WARNING\n",
    "\n",
    "# Group and plot\n",
    "fb_service_reg = fb_dataf_reg.groupby(['hostname']).size()\n",
    "# fb_service\n",
    "barplot_reg = fb_service_reg.sort_values(ascending=False).head(20).plot(kind='bar')"
   ]
  },
  {
   "cell_type": "markdown",
   "metadata": {},
   "source": [
    "Possibile che non ci siano differenze senza il regex? In teoria la richiesta va a fb.it che poi contatta fb.com nel caso per settare la lingua no? Alcune differenze ci sono anche se non clamorose...non avevi cambiato la stringa in find_match\n",
    "\n",
    "What are the top-15 most used services in general (without any filter on local client or service), in terms \n",
    "of TCP connections? Plot them as a barplot, ordered by decreasing number of TCP connections.\n"
   ]
  },
  {
   "cell_type": "code",
   "execution_count": 14,
   "metadata": {},
   "outputs": [],
   "source": [
    "# 15 most used services in general\n",
    "# Group and plot\n",
    "# dataf = dataf.groupby(['http_hostname:131']).size()\n",
    "# fb_service\n",
    "# barplot = dataf.sort_values(ascending=False).head(15).plot(kind='bar')\n",
    "\n",
    "# 15 most used TCP services in general\n",
    "# Group and plot\n",
    "def find_TCP(row):\n",
    "    string = '-'\n",
    "    if string not in row['http_hostname:131']:\n",
    "        return row['http_hostname:131']\n",
    "    elif string not in row['fqdn:127']:\n",
    "        return row['fqdn:127']\n",
    "    elif string not in row['c_tls_SNI:116']:\n",
    "        return row['c_tls_SNI:116']\n",
    "    elif string not in row['s_tls_SCN:117']:\n",
    "        return row['s_tls_SCN:117']\n",
    "    \n",
    "top15 = pd.DataFrame()    \n",
    "top15['tcp'] = dataf.apply(find_TCP, axis=1)\n",
    "# top15"
   ]
  },
  {
   "cell_type": "code",
   "execution_count": 15,
   "metadata": {},
   "outputs": [
    {
     "data": {
      "image/png": "[encoded data removed]",
      "text/plain": [
       "<Figure size 432x288 with 1 Axes>"
      ]
     },
     "metadata": {
      "needs_background": "light"
     },
     "output_type": "display_data"
    }
   ],
   "source": [
    "top15_all = top15.groupby(['tcp']).size()\n",
    "barplot = top15_all.sort_values(ascending=False).head(15).plot(kind='bar')"
   ]
  },
  {
   "cell_type": "markdown",
   "metadata": {},
   "source": [
    "2a) What happens if you repeat the exercise considering only HTTPS connections?\n",
    "\n",
    "Dalla tabella nel file si legge solo che colonna 42=1 vuol dire HTTP ma non viene menzionato HTTPS -> dovrebbe essere TLS"
   ]
  },
  {
   "cell_type": "code",
   "execution_count": 18,
   "metadata": {},
   "outputs": [
    {
     "data": {
      "image/png": "[encoded data removed]",
      "text/plain": [
       "<Figure size 432x288 with 1 Axes>"
      ]
     },
     "metadata": {
      "needs_background": "light"
     },
     "output_type": "display_data"
    }
   ],
   "source": [
    "# # 15 most used services for HTTP connections\n",
    "# # Group and plot\n",
    "# dataf_HTTP = dataf[(dataf['con_t:42']==1)].groupby(['http_hostname:131']).size()\n",
    "# # fb_service\n",
    "# barplot = dataf_HTTP.sort_values(ascending=False).head(15).plot(kind='bar')\n",
    "\n",
    "# 15 most used TCP services in general using HTTPS (TLS)\n",
    "# Filter DataFrame for TLS\n",
    "top15_tls = pd.DataFrame()\n",
    "top15_tls['tcp'] = dataf[(dataf['con_t:42'] == 8192)].apply(find_TCP, axis=1)\n",
    "# top15_https\n",
    "top15_https = top15_tls.groupby(['tcp']).size()\n",
    "barplot = top15_https.sort_values(ascending=False).head(15).plot(kind='bar')"
   ]
  },
  {
   "cell_type": "code",
   "execution_count": 19,
   "metadata": {},
   "outputs": [],
   "source": [
    "# dataf_service = dataf.groupby(['con_t:42']).size()\n",
    "# # fb_service\n",
    "# barplot = dataf_service.sort_values(ascending=False).plot(kind='bar')"
   ]
  },
  {
   "cell_type": "markdown",
   "metadata": {},
   "source": [
    "Ok ma cosa vogliono dire i numeri Mason?\n",
    "\n",
    "Count the fraction of connections for different “connection type” (without any filter on local client or\n",
    "service). Plot the results as a barplot."
   ]
  },
  {
   "cell_type": "code",
   "execution_count": 32,
   "metadata": {},
   "outputs": [
    {
     "data": {
      "image/png": "[encoded data removed]",
      "text/plain": [
       "<Figure size 432x288 with 1 Axes>"
      ]
     },
     "metadata": {
      "needs_background": "light"
     },
     "output_type": "display_data"
    }
   ],
   "source": [
    "# Count the fraction of connections for different “connection type”\n",
    "connections = dataf.groupby(['con_t:42']).size()\n",
    "# Normalize and plot\n",
    "connections = connections/connections.sum()\n",
    "barplot = connections.sort_values(ascending=False).plot.bar(stacked=True)"
   ]
  },
  {
   "cell_type": "markdown",
   "metadata": {},
   "source": [
    "Divide the rows of the file in sequential groups of 100000 connections (or smaller when not working on\n",
    "the whole trace). Do not use any filter on local client or service. Count the fraction of HTTP flows for each of\n",
    "these groups. Then plot the series of these fractions (number of the group on the x-axis, fraction of HTTP\n",
    "connections on the y-axis).\n",
    "Then report on the previous plot also the fraction of HTTPS connections for each group.\n",
    "Finally report on the previous plot also the fraction of other protocol flows for each group.\n",
    "Comment on the plot. Are there more HTTP or HTTPS flows? Are they stable in time?"
   ]
  },
  {
   "cell_type": "code",
   "execution_count": null,
   "metadata": {},
   "outputs": [],
   "source": []
  }
 ],
 "metadata": {
  "kernelspec": {
   "display_name": "Python 3",
   "language": "python",
   "name": "python3"
  },
  "language_info": {
   "codemirror_mode": {
    "name": "ipython",
    "version": 3
   },
   "file_extension": ".py",
   "mimetype": "text/x-python",
   "name": "python",
   "nbconvert_exporter": "python",
   "pygments_lexer": "ipython3",
   "version": "3.8.5"
  }
 },
 "nbformat": 4,
 "nbformat_minor": 4
}
