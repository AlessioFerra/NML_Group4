{
 "cells": [
  {
   "cell_type": "code",
   "execution_count": null,
   "id": "39bc7d2d",
   "metadata": {},
   "outputs": [],
   "source": [
    "from sklearn.model_selection import train_test_split\n",
    "from sklearn.preprocessing import StandardScaler, OrdinalEncoder\n",
    "import pandas as pd\n",
    "\n",
    "df = pd.read_csv('log_tcp_complete_classes.txt', sep = \" \")"
   ]
  },
  {
   "cell_type": "code",
   "execution_count": null,
   "id": "051a6f8e",
   "metadata": {},
   "outputs": [],
   "source": [
    "n_flows = len(df)\n",
    "classes = df['class:207'].unique()\n",
    "n_classes = len(classes)\n",
    "\n",
    "print(\"N. flows = \", n_flows)\n",
    "print(\"N. classes = \", n_classes)\n",
    "print(classes)\n",
    "\n",
    "a = df.groupby(['class:207']).size().sort_values(ascending=False).plot(kind='bar')"
   ]
  },
  {
   "cell_type": "markdown",
   "id": "77ebf1ea",
   "metadata": {},
   "source": [
    "## Task 2: data cleaning"
   ]
  },
  {
   "cell_type": "code",
   "execution_count": null,
   "id": "f16f7af4",
   "metadata": {},
   "outputs": [],
   "source": [
    "df = df.drop(labels=[''], axis=1)"
   ]
  },
  {
   "cell_type": "markdown",
   "id": "77c8bdc0",
   "metadata": {},
   "source": [
    "## Task 3: data splitting"
   ]
  },
  {
   "cell_type": "code",
   "execution_count": null,
   "id": "45137a13",
   "metadata": {},
   "outputs": [],
   "source": [
    "df_train, df_test = train_test_split(df, test_size=0.33, random_state=0)\n",
    "print(\"Training test size: \", len(df_train), \"\\nTest set size: \", len(df_test))"
   ]
  },
  {
   "cell_type": "markdown",
   "id": "c9185a15",
   "metadata": {},
   "source": [
    "## Task 4: data preprocessing"
   ]
  },
  {
   "cell_type": "code",
   "execution_count": null,
   "id": "e02a979f",
   "metadata": {},
   "outputs": [],
   "source": []
  }
 ],
 "metadata": {
  "kernelspec": {
   "display_name": "Python 3",
   "language": "python",
   "name": "python3"
  },
  "language_info": {
   "codemirror_mode": {
    "name": "ipython",
    "version": 3
   },
   "file_extension": ".py",
   "mimetype": "text/x-python",
   "name": "python",
   "nbconvert_exporter": "python",
   "pygments_lexer": "ipython3",
   "version": "3.8.8"
  }
 },
 "nbformat": 4,
 "nbformat_minor": 5
}
